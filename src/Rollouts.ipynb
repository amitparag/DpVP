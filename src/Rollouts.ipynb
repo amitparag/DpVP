{
 "cells": [
  {
   "cell_type": "code",
   "execution_count": 1,
   "id": "6c55b8d6",
   "metadata": {},
   "outputs": [
    {
     "name": "stdout",
     "output_type": "stream",
     "text": [
      "\n",
      "\n",
      "Successfully Loaded Robot\n"
     ]
    },
    {
     "name": "stderr",
     "output_type": "stream",
     "text": [
      "/home/amit/workspace/refining_disjoint/src/optimal_control/path.py:18: YAMLLoadWarning: calling yaml.load() without Loader=... is deprecated, as the default Loader is unsafe. Please read https://msg.pyyaml.org/load for full details.\n",
      "  data = yaml.load(f)\n"
     ]
    }
   ],
   "source": [
    "# Author: Amit Parag\n",
    "# Date : 11 May, 2022\n",
    "\n",
    "\n",
    "import numpy as np\n",
    "import torch\n",
    "from tqdm import tqdm\n",
    "import yaml\n",
    "import seaborn as sns\n",
    "import matplotlib.pyplot as plt\n",
    "import yaml\n",
    "from torch.nn.functional import mse_loss as mse\n",
    "import pandas\n",
    "\n",
    "from datagen import solve_ocps\n",
    "from nn import ActorResidualCritic\n",
    "from optimal_control.ddp import init_ddp,extract_ddp_data\n",
    "from optimal_control.samples import uniform_samples\n",
    "from optimal_control.robot import load_robot\n",
    "from optimal_control.plot_results import plot_warmstart\n",
    "from optimal_control.plot_results import plot_warmstarts\n",
    "from optimal_control.plot_results import plot_warmstart_ee\n",
    "\n",
    "from optimal_control.path import exp_path\n",
    "\n",
    "\n",
    "\n",
    "sns.set(font_scale=1.5)\n",
    "plt.rc('text', usetex=True)\n",
    "\n",
    "sns.set_context(\"paper\",rc={\"lines.linewidth\": 2.5})\n",
    "sns.axes_style(\"white\")\n",
    "sns.color_palette(\"husl\", 3)\n",
    "sns.set(font_scale = 1.5)\n",
    "sns.set_style(\"whitegrid\", {'axes.grid' :False,'grid.linestyle': '--'})\n",
    "\n",
    "##################################################33\n",
    "\n",
    "\n",
    "\n",
    "\n",
    "\n",
    "\n",
    "\n",
    "\n",
    "\n",
    "robot, config = load_robot()\n",
    "\n",
    "torch.manual_seed(0)\n",
    "np.random.seed(0)\n",
    "\n",
    "exp_number  =   1\n",
    "eps_number  =   21\n",
    "save_path   =   exp_path(exp_number=exp_number,make_path=False,get_path=True)\n",
    "model       =   torch.load(save_path+f'/eps_{eps_number}.pth')\n",
    "    \n"
   ]
  },
  {
   "cell_type": "code",
   "execution_count": 12,
   "id": "3c7ee43f",
   "metadata": {},
   "outputs": [],
   "source": [
    "\n",
    "def check_iters(model,nb_samples=160):\n",
    "\n",
    "\n",
    "    x0s     = uniform_samples(nb_samples=nb_samples,robot=robot,config=config)\n",
    "    #print(\"Base\\t\\tResidual\\t\\tDisjoint\")\n",
    "\n",
    "    ddp_iter    =   []\n",
    "    dvp_iter    =   []\n",
    "\n",
    "\n",
    "    for x0 in tqdm(x0s):\n",
    "\n",
    "        ### BASE\n",
    "        ddp     =   init_ddp(robot=robot,config=config,x0=x0,N_h=100)\n",
    "        ddp.solve()\n",
    "        ddp_iter.append( ddp.iter )\n",
    "        \n",
    "\n",
    "\n",
    "        ### Disjoint\n",
    "        xs, us  =   model.warmstart(x0)\n",
    "        ddp3    =   init_ddp(robot=robot,config=config,x0=x0,actorResidualCritic=model,N_h=100)\n",
    "        xs      =   xs[:101]\n",
    "        us      =   us[:100]\n",
    "        ddp3.solve(init_xs=xs,init_us=us,maxiter=1000,isFeasible=False)\n",
    "        dvp_iter.append( ddp3.iter )\n",
    "        \n",
    "\n",
    "    return ddp_iter, dvp_iter"
   ]
  },
  {
   "cell_type": "code",
   "execution_count": 13,
   "id": "d2c0643a",
   "metadata": {},
   "outputs": [
    {
     "name": "stderr",
     "output_type": "stream",
     "text": [
      "100%|████████████████████████████████████████████████████████████████████████████████████████████████████████████████████████████████████████████████████████████████████| 600/600 [00:43<00:00, 13.80it/s]\n"
     ]
    }
   ],
   "source": [
    "d1, d2 = check_iters(model,600)"
   ]
  },
  {
   "cell_type": "code",
   "execution_count": 51,
   "id": "6ed48cf3",
   "metadata": {},
   "outputs": [
    {
     "data": {
      "image/png": "[encoded data removed]",
      "text/plain": [
       "<Figure size 835.2x267.12 with 1 Axes>"
      ]
     },
     "metadata": {},
     "output_type": "display_data"
    }
   ],
   "source": [
    "fig, ax = plt.subplots(figsize=(11.6,3.71))\n",
    "\n",
    "\n",
    "ax.hist(d1, bins=30,color='teal',label='DDP')\n",
    "ax.hist(d2, bins=30,label=r\"$\\partial$PVP\",color='darkorchid')\n",
    "ax.set_ylabel(\"Tasks\")\n",
    "ax.set_xlabel(\"Rollouts required\",labelpad=10)\n",
    "#ax.set_yticks(np.arange(0,len(d1)+1))\n",
    "#MEAN\n",
    "#ax.axvline(sum(d1)/len(d1), color='k', linestyle='dashed', linewidth=5)\n",
    "#ax.axvline(sum(d2)/len(d2), color='k', linestyle='dashed', linewidth=5)\n",
    "ax.grid(True)\n",
    "\n",
    "plt.legend()\n",
    "plt.savefig(\"../results/exp_1/iters.png\")"
   ]
  },
  {
   "cell_type": "code",
   "execution_count": 33,
   "id": "cb6e0fb6",
   "metadata": {},
   "outputs": [
    {
     "data": {
      "text/plain": [
       "600"
      ]
     },
     "execution_count": 33,
     "metadata": {},
     "output_type": "execute_result"
    }
   ],
   "source": []
  },
  {
   "cell_type": "code",
   "execution_count": null,
   "id": "6ca6b7ee",
   "metadata": {},
   "outputs": [],
   "source": []
  }
 ],
 "metadata": {
  "kernelspec": {
   "display_name": "Python 3 (ipykernel)",
   "language": "python",
   "name": "python3"
  },
  "language_info": {
   "codemirror_mode": {
    "name": "ipython",
    "version": 3
   },
   "file_extension": ".py",
   "mimetype": "text/x-python",
   "name": "python",
   "nbconvert_exporter": "python",
   "pygments_lexer": "ipython3",
   "version": "3.8.10"
  }
 },
 "nbformat": 4,
 "nbformat_minor": 5
}
