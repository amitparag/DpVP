{
 "cells": [
  {
   "cell_type": "code",
   "execution_count": null,
   "id": "c3fea6e9",
   "metadata": {},
   "outputs": [],
   "source": [
    "# A jupyter notebook to animate solutions "
   ]
  },
  {
   "cell_type": "code",
   "execution_count": null,
   "id": "8d49efeb",
   "metadata": {},
   "outputs": [],
   "source": [
    "\n",
    "\n",
    "\n",
    "import numpy as np\n",
    "import torch\n",
    "\n",
    "from datagen import solve_ocps\n",
    "from nn import ActorResidualCritic\n",
    "from optimal_control.ddp import init_ddp,extract_ddp_data\n",
    "from optimal_control.samples import uniform_samples\n",
    "from optimal_control.robot import load_robot\n",
    "from optimal_control.path import exp_path\n",
    "from optimal_control.viewer import animate_ddps\n",
    "\n",
    "torch.manual_seed(0)\n",
    "np.random.seed(0)\n",
    "\n",
    "##################################################33\n",
    "\n",
    "\n",
    "\n"
   ]
  },
  {
   "cell_type": "code",
   "execution_count": null,
   "id": "b66eff18",
   "metadata": {},
   "outputs": [],
   "source": [
    "## if Gepetto-gui is not open and running, then uncomment the line below to run the cell\n",
    "\n",
    "#!gepetto-gui\n",
    "robot, config = load_robot(display=True)\n",
    " "
   ]
  },
  {
   "cell_type": "code",
   "execution_count": null,
   "id": "8607fe34",
   "metadata": {},
   "outputs": [],
   "source": [
    "\n",
    "\n",
    "exp_number  =   1\n",
    "eps_number  =   20\n",
    "save_path   =   exp_path(exp_number=exp_number,make_path=False,get_path=True)\n",
    "model       =   torch.load(save_path+f'/eps_{eps_number}.pth')"
   ]
  },
  {
   "cell_type": "code",
   "execution_count": null,
   "id": "b1fc6e28",
   "metadata": {},
   "outputs": [],
   "source": [
    "# Let's get an initial starting state\n",
    "x0s = uniform_samples(nb_samples = 20, robot=robot, config=config)\n",
    "\n",
    "DDPS_DATA = []\n",
    "\n",
    "\n",
    "for x0 in x0s:\n",
    "\n",
    "    #ddp.problem.x0 = x0\n",
    "    nq      =   robot.model.nq\n",
    "    q0      =   x0[:nq]\n",
    "    # Update robot model with initial state\n",
    "    robot.framesForwardKinematics(q0)\n",
    "    robot.computeJointJacobians(q0)\n",
    "\n",
    "    ddp                 =   init_ddp(robot=robot,config=config,x0=x0,actorResidualCritic=model,N_h=model.horizon)\n",
    "    xs_init, us_init    =   model.warmstart(x0)\n",
    "    ddp.solve(xs_init,us_init,maxiter=1000,isFeasible=False)\n",
    "    print(f\"Rollouts required to solve this problem : {ddp.iter}\")\n",
    "    ddp_data            =   extract_ddp_data(ddp)\n",
    "    DDPS_DATA.append(ddp_data) \n"
   ]
  },
  {
   "cell_type": "code",
   "execution_count": null,
   "id": "3210d225",
   "metadata": {},
   "outputs": [],
   "source": [
    "animate_ddps(DDPS_DATA=DDPS_DATA,robot=robot,config=config)"
   ]
  },
  {
   "cell_type": "code",
   "execution_count": null,
   "id": "d93f0811",
   "metadata": {},
   "outputs": [],
   "source": []
  }
 ],
 "metadata": {
  "interpreter": {
   "hash": "916dbcbb3f70747c44a77c7bcd40155683ae19c65e1c03b4aa3499c5328201f1"
  },
  "kernelspec": {
   "display_name": "Python 3.8.10 64-bit",
   "language": "python",
   "name": "python3"
  },
  "language_info": {
   "codemirror_mode": {
    "name": "ipython",
    "version": 3
   },
   "file_extension": ".py",
   "mimetype": "text/x-python",
   "name": "python",
   "nbconvert_exporter": "python",
   "pygments_lexer": "ipython3",
   "version": "3.8.10"
  }
 },
 "nbformat": 4,
 "nbformat_minor": 5
}
